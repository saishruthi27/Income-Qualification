{
 "cells": [
  {
   "cell_type": "code",
   "execution_count": 1,
   "id": "608d39ef",
   "metadata": {},
   "outputs": [],
   "source": [
    "import pandas as pd\n",
    "import numpy as np\n",
    "import matplotlib.pyplot as plt\n",
    "import seaborn as sns\n",
    "plt.style.use('ggplot')\n",
    "%matplotlib inline\n",
    "from sklearn.ensemble import RandomForestClassifier\n",
    "from sklearn.model_selection import train_test_split\n",
    "from sklearn.metrics import accuracy_score,confusion_matrix,f1_score,classification_report"
   ]
  },
  {
   "cell_type": "code",
   "execution_count": 2,
   "id": "236fb1ab",
   "metadata": {},
   "outputs": [],
   "source": [
    "data_train=pd.read_csv('train.csv')\n",
    "data_test=pd.read_csv('test.csv')"
   ]
  },
  {
   "cell_type": "code",
   "execution_count": 3,
   "id": "a6ed1ca9",
   "metadata": {},
   "outputs": [
    {
     "name": "stdout",
     "output_type": "stream",
     "text": [
      "Shape of train dataset is (9557, 143)\n",
      "Shape of test dataset is (23856, 142)\n"
     ]
    }
   ],
   "source": [
    "print('Shape of train dataset is {}'.format(data_train.shape))\n",
    "print('Shape of test dataset is {}'.format(data_test.shape))"
   ]
  },
  {
   "cell_type": "markdown",
   "id": "df6bb790",
   "metadata": {},
   "source": [
    "### Identify the output variable."
   ]
  },
  {
   "cell_type": "code",
   "execution_count": 4,
   "id": "9febd4c4",
   "metadata": {},
   "outputs": [
    {
     "name": "stdout",
     "output_type": "stream",
     "text": [
      "Our output variable is Target\n"
     ]
    }
   ],
   "source": [
    "target_col = \"\"\n",
    "for i in data_train.columns:\n",
    "    if i not in data_test.columns:\n",
    "        target_col = i\n",
    "        print(\"Our output variable is {}\".format(i))\n",
    "        break"
   ]
  },
  {
   "cell_type": "markdown",
   "id": "69ab6792",
   "metadata": {},
   "source": [
    "### Understand the type of data."
   ]
  },
  {
   "cell_type": "code",
   "execution_count": 5,
   "id": "7c6065a1",
   "metadata": {},
   "outputs": [
    {
     "data": {
      "text/plain": [
       "int64      130\n",
       "float64      8\n",
       "object       5\n",
       "dtype: int64"
      ]
     },
     "execution_count": 5,
     "metadata": {},
     "output_type": "execute_result"
    }
   ],
   "source": [
    "data_train.dtypes.value_counts()"
   ]
  },
  {
   "cell_type": "code",
   "execution_count": 6,
   "id": "61d9681c",
   "metadata": {},
   "outputs": [
    {
     "data": {
      "text/html": [
       "<div>\n",
       "<style scoped>\n",
       "    .dataframe tbody tr th:only-of-type {\n",
       "        vertical-align: middle;\n",
       "    }\n",
       "\n",
       "    .dataframe tbody tr th {\n",
       "        vertical-align: top;\n",
       "    }\n",
       "\n",
       "    .dataframe thead th {\n",
       "        text-align: right;\n",
       "    }\n",
       "</style>\n",
       "<table border=\"1\" class=\"dataframe\">\n",
       "  <thead>\n",
       "    <tr style=\"text-align: right;\">\n",
       "      <th></th>\n",
       "      <th>Id</th>\n",
       "      <th>idhogar</th>\n",
       "      <th>dependency</th>\n",
       "      <th>edjefe</th>\n",
       "      <th>edjefa</th>\n",
       "    </tr>\n",
       "  </thead>\n",
       "  <tbody>\n",
       "    <tr>\n",
       "      <th>0</th>\n",
       "      <td>ID_279628684</td>\n",
       "      <td>21eb7fcc1</td>\n",
       "      <td>no</td>\n",
       "      <td>10</td>\n",
       "      <td>no</td>\n",
       "    </tr>\n",
       "    <tr>\n",
       "      <th>1</th>\n",
       "      <td>ID_f29eb3ddd</td>\n",
       "      <td>0e5d7a658</td>\n",
       "      <td>8</td>\n",
       "      <td>12</td>\n",
       "      <td>no</td>\n",
       "    </tr>\n",
       "    <tr>\n",
       "      <th>2</th>\n",
       "      <td>ID_68de51c94</td>\n",
       "      <td>2c7317ea8</td>\n",
       "      <td>8</td>\n",
       "      <td>no</td>\n",
       "      <td>11</td>\n",
       "    </tr>\n",
       "    <tr>\n",
       "      <th>3</th>\n",
       "      <td>ID_d671db89c</td>\n",
       "      <td>2b58d945f</td>\n",
       "      <td>yes</td>\n",
       "      <td>11</td>\n",
       "      <td>no</td>\n",
       "    </tr>\n",
       "    <tr>\n",
       "      <th>4</th>\n",
       "      <td>ID_d56d6f5f5</td>\n",
       "      <td>2b58d945f</td>\n",
       "      <td>yes</td>\n",
       "      <td>11</td>\n",
       "      <td>no</td>\n",
       "    </tr>\n",
       "    <tr>\n",
       "      <th>...</th>\n",
       "      <td>...</td>\n",
       "      <td>...</td>\n",
       "      <td>...</td>\n",
       "      <td>...</td>\n",
       "      <td>...</td>\n",
       "    </tr>\n",
       "    <tr>\n",
       "      <th>9552</th>\n",
       "      <td>ID_d45ae367d</td>\n",
       "      <td>d6c086aa3</td>\n",
       "      <td>.25</td>\n",
       "      <td>9</td>\n",
       "      <td>no</td>\n",
       "    </tr>\n",
       "    <tr>\n",
       "      <th>9553</th>\n",
       "      <td>ID_c94744e07</td>\n",
       "      <td>d6c086aa3</td>\n",
       "      <td>.25</td>\n",
       "      <td>9</td>\n",
       "      <td>no</td>\n",
       "    </tr>\n",
       "    <tr>\n",
       "      <th>9554</th>\n",
       "      <td>ID_85fc658f8</td>\n",
       "      <td>d6c086aa3</td>\n",
       "      <td>.25</td>\n",
       "      <td>9</td>\n",
       "      <td>no</td>\n",
       "    </tr>\n",
       "    <tr>\n",
       "      <th>9555</th>\n",
       "      <td>ID_ced540c61</td>\n",
       "      <td>d6c086aa3</td>\n",
       "      <td>.25</td>\n",
       "      <td>9</td>\n",
       "      <td>no</td>\n",
       "    </tr>\n",
       "    <tr>\n",
       "      <th>9556</th>\n",
       "      <td>ID_a38c64491</td>\n",
       "      <td>d6c086aa3</td>\n",
       "      <td>.25</td>\n",
       "      <td>9</td>\n",
       "      <td>no</td>\n",
       "    </tr>\n",
       "  </tbody>\n",
       "</table>\n",
       "<p>9557 rows × 5 columns</p>\n",
       "</div>"
      ],
      "text/plain": [
       "                Id    idhogar dependency edjefe edjefa\n",
       "0     ID_279628684  21eb7fcc1         no     10     no\n",
       "1     ID_f29eb3ddd  0e5d7a658          8     12     no\n",
       "2     ID_68de51c94  2c7317ea8          8     no     11\n",
       "3     ID_d671db89c  2b58d945f        yes     11     no\n",
       "4     ID_d56d6f5f5  2b58d945f        yes     11     no\n",
       "...            ...        ...        ...    ...    ...\n",
       "9552  ID_d45ae367d  d6c086aa3        .25      9     no\n",
       "9553  ID_c94744e07  d6c086aa3        .25      9     no\n",
       "9554  ID_85fc658f8  d6c086aa3        .25      9     no\n",
       "9555  ID_ced540c61  d6c086aa3        .25      9     no\n",
       "9556  ID_a38c64491  d6c086aa3        .25      9     no\n",
       "\n",
       "[9557 rows x 5 columns]"
      ]
     },
     "execution_count": 6,
     "metadata": {},
     "output_type": "execute_result"
    }
   ],
   "source": [
    "data_train.select_dtypes(include='object')"
   ]
  },
  {
   "cell_type": "markdown",
   "id": "7e22be16",
   "metadata": {},
   "source": [
    "### Check if there are any biases in your dataset."
   ]
  },
  {
   "cell_type": "code",
   "execution_count": 7,
   "id": "497a2bc1",
   "metadata": {},
   "outputs": [
    {
     "data": {
      "text/plain": [
       "4    62.739353\n",
       "2    16.710265\n",
       "3    12.650413\n",
       "1     7.899969\n",
       "Name: Target, dtype: float64"
      ]
     },
     "execution_count": 7,
     "metadata": {},
     "output_type": "execute_result"
    }
   ],
   "source": [
    "(data_train[target_col].value_counts() / data_train.shape[0]) * 100"
   ]
  },
  {
   "cell_type": "markdown",
   "id": "4d346649",
   "metadata": {},
   "source": [
    "Above data shows that about 62% of people in training dataset fall under category `4` level of poverty"
   ]
  },
  {
   "cell_type": "code",
   "execution_count": 8,
   "id": "edcddf24",
   "metadata": {},
   "outputs": [
    {
     "data": {
      "text/plain": [
       "[Text(0.5, 1.0, \"Distribution of 'v18q1'\")]"
      ]
     },
     "execution_count": 8,
     "metadata": {},
     "output_type": "execute_result"
    },
    {
     "data": {
      "image/png": "[encoded data removed]",
      "text/plain": [
       "<Figure size 720x1080 with 6 Axes>"
      ]
     },
     "metadata": {
      "needs_background": "light"
     },
     "output_type": "display_data"
    }
   ],
   "source": [
    "fig, axes = plt.subplots(3,2,figsize=(10,15))\n",
    "\n",
    "sns.histplot(ax=axes[0,0], x=data_train['r4t3'],\n",
    "            bins= 10, kde = True, cbar = True,\n",
    "            color = '#A163CF').set(title = \"Distribution of 'r4t3'\")\n",
    "\n",
    "sns.histplot(ax=axes[0,1], x=data_train['hogar_total'],\n",
    "            bins = 10, kde = True, cbar = True,\n",
    "            color = '#A163CF').set(title = \"Distribution of 'hogar_total'\")\n",
    "\n",
    "sns.histplot(ax=axes[1,0], x=data_train['tipovivi3'],\n",
    "            bins = 10, kde = True, cbar = True,\n",
    "            color = '#A163CF').set(title= \"Distribution of 'tipovivi3'\")\n",
    "\n",
    "sns.histplot(ax=axes[1,1], x=data_train['v2a1'],\n",
    "            bins=10, kde=True,cbar = True,\n",
    "            color = '#A163CF').set(title=\"Distribution of 'v2a1'\")\n",
    "\n",
    "sns.histplot(ax=axes[2,0],x=data_train['v18q'],\n",
    "            bins=10, kde = True, cbar = True,\n",
    "            color = '#A163CF').set(title=\"Distribution of 'v18q'\")\n",
    "\n",
    "sns.histplot(ax=axes[2,1],x=data_train['v18q1'],\n",
    "            bins=10, kde = True, cbar = True,\n",
    "            color = '#A163CF').set(title=\"Distribution of 'v18q1'\")"
   ]
  },
  {
   "cell_type": "markdown",
   "id": "07ff5d55",
   "metadata": {},
   "source": [
    "Therefore,variables ('r4t3','hogar_total') have relationship between them. For good result we can use any one of them.\n",
    "Therefore,variables ('tipovivi3','v2a1') have relationship between them. For good result we can use any one of them.\n",
    "Therefore,variables ('v18q','v18q1') have relationship between them. For good result we can use any one of them.\n",
    "So,*Therefore, there is bias in our dataset.*"
   ]
  },
  {
   "cell_type": "markdown",
   "id": "f328bb41",
   "metadata": {},
   "source": [
    "### Check whether all members of the house have the same poverty level."
   ]
  },
  {
   "cell_type": "code",
   "execution_count": 9,
   "id": "13b92ab4",
   "metadata": {},
   "outputs": [],
   "source": [
    "# Group By data wrt to family ID\n",
    "family_group = data_train.groupby('idhogar')"
   ]
  },
  {
   "cell_type": "code",
   "execution_count": 10,
   "id": "f6a39534",
   "metadata": {},
   "outputs": [
    {
     "data": {
      "text/plain": [
       "True"
      ]
     },
     "execution_count": 10,
     "metadata": {},
     "output_type": "execute_result"
    }
   ],
   "source": [
    "# Get the count unique count of Target variable\n",
    "unique_poverty_status = family_group[target_col].nunique()\n",
    "# unique_poverty_status[unique_poverty_status > 1].index\n",
    "any(unique_poverty_status > 1)"
   ]
  },
  {
   "cell_type": "code",
   "execution_count": 11,
   "id": "0b8089eb",
   "metadata": {},
   "outputs": [
    {
     "data": {
      "text/plain": [
       "(85, 2988)"
      ]
     },
     "execution_count": 11,
     "metadata": {},
     "output_type": "execute_result"
    }
   ],
   "source": [
    "sum(unique_poverty_status > 1), unique_poverty_status.shape[0]"
   ]
  },
  {
   "cell_type": "markdown",
   "id": "dce41928",
   "metadata": {},
   "source": [
    "Above data shows that there are some families where members are of different poverty category within same family.\n",
    "Out of 2988 Families in dataset about 85 families have shown this behaviour"
   ]
  },
  {
   "cell_type": "markdown",
   "id": "e7d018c4",
   "metadata": {},
   "source": [
    "### Check if there is a house without a family head."
   ]
  },
  {
   "cell_type": "code",
   "execution_count": 12,
   "id": "31a15b1c",
   "metadata": {},
   "outputs": [
    {
     "data": {
      "text/plain": [
       "True"
      ]
     },
     "execution_count": 12,
     "metadata": {},
     "output_type": "execute_result"
    }
   ],
   "source": [
    "num_head_in_family = family_group.parentesco1.sum()\n",
    "any(num_head_in_family == 0)"
   ]
  },
  {
   "cell_type": "code",
   "execution_count": 13,
   "id": "c71e03db",
   "metadata": {},
   "outputs": [
    {
     "data": {
      "text/plain": [
       "(15, 2988)"
      ]
     },
     "execution_count": 13,
     "metadata": {},
     "output_type": "execute_result"
    }
   ],
   "source": [
    "num_head_in_family[num_head_in_family == 0].shape[0], num_head_in_family.shape[0]"
   ]
  },
  {
   "cell_type": "markdown",
   "id": "6cc3b644",
   "metadata": {},
   "source": [
    "Above data shows that out 2988 families about 15 families don't have family head in training dataset"
   ]
  },
  {
   "cell_type": "markdown",
   "id": "e629ff4b",
   "metadata": {},
   "source": [
    "### Set the poverty level of the members and the head of the house same in a family."
   ]
  },
  {
   "cell_type": "code",
   "execution_count": 14,
   "id": "e9ab0e97",
   "metadata": {},
   "outputs": [],
   "source": [
    "def set_poverty_level_as_head(group):\n",
    "    head_poverty_level = group[group.parentesco1 == 1].Target\n",
    "    if not head_poverty_level.empty:\n",
    "        group.Target = head_poverty_level.values[0]\n",
    "    return group"
   ]
  },
  {
   "cell_type": "code",
   "execution_count": 15,
   "id": "10a29ed9",
   "metadata": {},
   "outputs": [],
   "source": [
    "# update training data \n",
    "data_train = family_group.apply(set_poverty_level_as_head)"
   ]
  },
  {
   "cell_type": "markdown",
   "id": "eb0433b6",
   "metadata": {},
   "source": [
    "### Count how many null values are existing in columns."
   ]
  },
  {
   "cell_type": "code",
   "execution_count": 16,
   "id": "a922faa3",
   "metadata": {},
   "outputs": [
    {
     "data": {
      "text/plain": [
       "v2a1         6860\n",
       "v18q1        7342\n",
       "rez_esc      7928\n",
       "meaneduc        5\n",
       "SQBmeaned       5\n",
       "dtype: int64"
      ]
     },
     "execution_count": 16,
     "metadata": {},
     "output_type": "execute_result"
    }
   ],
   "source": [
    "null_col_count = data_train.isnull().sum()\n",
    "null_col_count[null_col_count != 0]"
   ]
  },
  {
   "cell_type": "markdown",
   "id": "a70eaa8c",
   "metadata": {},
   "source": [
    "##### Checking null of v2a1"
   ]
  },
  {
   "cell_type": "code",
   "execution_count": 17,
   "id": "d0133551",
   "metadata": {},
   "outputs": [
    {
     "data": {
      "text/html": [
       "<div>\n",
       "<style scoped>\n",
       "    .dataframe tbody tr th:only-of-type {\n",
       "        vertical-align: middle;\n",
       "    }\n",
       "\n",
       "    .dataframe tbody tr th {\n",
       "        vertical-align: top;\n",
       "    }\n",
       "\n",
       "    .dataframe thead th {\n",
       "        text-align: right;\n",
       "    }\n",
       "</style>\n",
       "<table border=\"1\" class=\"dataframe\">\n",
       "  <thead>\n",
       "    <tr style=\"text-align: right;\">\n",
       "      <th></th>\n",
       "      <th>tipovivi1</th>\n",
       "      <th>tipovivi2</th>\n",
       "      <th>tipovivi3</th>\n",
       "      <th>tipovivi4</th>\n",
       "      <th>tipovivi5</th>\n",
       "    </tr>\n",
       "  </thead>\n",
       "  <tbody>\n",
       "    <tr>\n",
       "      <th>2</th>\n",
       "      <td>1</td>\n",
       "      <td>0</td>\n",
       "      <td>0</td>\n",
       "      <td>0</td>\n",
       "      <td>0</td>\n",
       "    </tr>\n",
       "    <tr>\n",
       "      <th>13</th>\n",
       "      <td>1</td>\n",
       "      <td>0</td>\n",
       "      <td>0</td>\n",
       "      <td>0</td>\n",
       "      <td>0</td>\n",
       "    </tr>\n",
       "    <tr>\n",
       "      <th>14</th>\n",
       "      <td>1</td>\n",
       "      <td>0</td>\n",
       "      <td>0</td>\n",
       "      <td>0</td>\n",
       "      <td>0</td>\n",
       "    </tr>\n",
       "    <tr>\n",
       "      <th>26</th>\n",
       "      <td>1</td>\n",
       "      <td>0</td>\n",
       "      <td>0</td>\n",
       "      <td>0</td>\n",
       "      <td>0</td>\n",
       "    </tr>\n",
       "    <tr>\n",
       "      <th>32</th>\n",
       "      <td>1</td>\n",
       "      <td>0</td>\n",
       "      <td>0</td>\n",
       "      <td>0</td>\n",
       "      <td>0</td>\n",
       "    </tr>\n",
       "  </tbody>\n",
       "</table>\n",
       "</div>"
      ],
      "text/plain": [
       "    tipovivi1  tipovivi2  tipovivi3  tipovivi4  tipovivi5\n",
       "2           1          0          0          0          0\n",
       "13          1          0          0          0          0\n",
       "14          1          0          0          0          0\n",
       "26          1          0          0          0          0\n",
       "32          1          0          0          0          0"
      ]
     },
     "execution_count": 17,
     "metadata": {},
     "output_type": "execute_result"
    }
   ],
   "source": [
    "data = data_train[data_train['v2a1'].isnull()].head()\n",
    "\n",
    "columns=['tipovivi1','tipovivi2','tipovivi3','tipovivi4','tipovivi5']\n",
    "data[columns]"
   ]
  },
  {
   "cell_type": "code",
   "execution_count": 18,
   "id": "5c9afdd8",
   "metadata": {},
   "outputs": [
    {
     "data": {
      "image/png": "[encoded data removed]",
      "text/plain": [
       "<Figure size 360x360 with 1 Axes>"
      ]
     },
     "metadata": {
      "needs_background": "light"
     },
     "output_type": "display_data"
    }
   ],
   "source": [
    "# Variables indicating home ownership\n",
    "own_variables = [x for x in data_train if x.startswith('tipo')]\n",
    "\n",
    "# Plot of the home ownership variables for home missing rent payments\n",
    "data_train.loc[data_train['v2a1'].isnull(), own_variables].sum().plot.bar(figsize = (5, 5),\n",
    "                                                                        color = 'orange',\n",
    "                                                              edgecolor = 'k', linewidth = 2);\n",
    "plt.xticks([0, 1, 2, 3, 4],\n",
    "           ['Owns and Paid Off', 'Owns and Paying', 'Rented', 'Precarious', 'Other'],\n",
    "          rotation = 20)\n",
    "plt.title('Home Ownership Status for Households Missing Rent Payments', size = 18);"
   ]
  },
  {
   "cell_type": "code",
   "execution_count": 19,
   "id": "45f5e4be",
   "metadata": {},
   "outputs": [],
   "source": [
    "data_train['v2a1'].fillna(0,inplace=True)"
   ]
  },
  {
   "cell_type": "markdown",
   "id": "f73ad1a9",
   "metadata": {},
   "source": [
    "Looking at the above data it makes sense that when the house is fully paid, there will be no monthly rent payment.\n",
    "So, added 0 for all the null values."
   ]
  },
  {
   "cell_type": "markdown",
   "id": "4a217002",
   "metadata": {},
   "source": [
    "##### Checking null values of v18q1 "
   ]
  },
  {
   "cell_type": "code",
   "execution_count": 20,
   "id": "bec19ad7",
   "metadata": {},
   "outputs": [
    {
     "data": {
      "text/plain": [
       "1.0    1586\n",
       "2.0     444\n",
       "3.0     129\n",
       "4.0      37\n",
       "5.0      13\n",
       "6.0       6\n",
       "Name: v18q1, dtype: int64"
      ]
     },
     "execution_count": 20,
     "metadata": {},
     "output_type": "execute_result"
    }
   ],
   "source": [
    "data_train['v18q1'].value_counts()"
   ]
  },
  {
   "cell_type": "code",
   "execution_count": 21,
   "id": "5b07294e",
   "metadata": {},
   "outputs": [
    {
     "data": {
      "text/plain": [
       "7342"
      ]
     },
     "execution_count": 21,
     "metadata": {},
     "output_type": "execute_result"
    }
   ],
   "source": [
    "data_train['v18q1'].isna().sum()"
   ]
  },
  {
   "cell_type": "code",
   "execution_count": 22,
   "id": "4ae9b390",
   "metadata": {},
   "outputs": [
    {
     "data": {
      "text/plain": [
       "0    7342\n",
       "1    2215\n",
       "Name: v18q, dtype: int64"
      ]
     },
     "execution_count": 22,
     "metadata": {},
     "output_type": "execute_result"
    }
   ],
   "source": [
    "data_train['v18q'].value_counts()"
   ]
  },
  {
   "cell_type": "code",
   "execution_count": 23,
   "id": "ea26b704",
   "metadata": {},
   "outputs": [],
   "source": [
    "data_train['v18q1'].fillna(0,inplace=True)"
   ]
  },
  {
   "cell_type": "markdown",
   "id": "87864419",
   "metadata": {},
   "source": [
    "Looking at the above data it makes sense that when owns a tablet column is 0, \n",
    "there will be no number of tablets household owns. So, added 0 for all the null values."
   ]
  },
  {
   "cell_type": "markdown",
   "id": "2b708925",
   "metadata": {},
   "source": [
    "##### Checking for null values rez_esc"
   ]
  },
  {
   "cell_type": "markdown",
   "id": "8004264a",
   "metadata": {},
   "source": [
    "Lets look at rez_esc : Years behind in school  "
   ]
  },
  {
   "cell_type": "code",
   "execution_count": 24,
   "id": "4b6ae588",
   "metadata": {},
   "outputs": [
    {
     "data": {
      "text/plain": [
       "count    1629.000000\n",
       "mean       12.258441\n",
       "std         3.218325\n",
       "min         7.000000\n",
       "25%         9.000000\n",
       "50%        12.000000\n",
       "75%        15.000000\n",
       "max        17.000000\n",
       "Name: age, dtype: float64"
      ]
     },
     "execution_count": 24,
     "metadata": {},
     "output_type": "execute_result"
    }
   ],
   "source": [
    "data_train[data_train['rez_esc'].notnull()]['age'].describe()"
   ]
  },
  {
   "cell_type": "markdown",
   "id": "72de7efe",
   "metadata": {},
   "source": [
    "From the above , we see that when min age is 7 and max age is 17 for Years, then the 'behind in school' column has a value.\n"
   ]
  },
  {
   "cell_type": "code",
   "execution_count": 25,
   "id": "036f7bf7",
   "metadata": {},
   "outputs": [
    {
     "data": {
      "text/plain": [
       "count    7928.000000\n",
       "mean       38.833249\n",
       "std        20.989486\n",
       "min         0.000000\n",
       "25%        24.000000\n",
       "50%        38.000000\n",
       "75%        54.000000\n",
       "max        97.000000\n",
       "Name: age, dtype: float64"
      ]
     },
     "execution_count": 25,
     "metadata": {},
     "output_type": "execute_result"
    }
   ],
   "source": [
    "data_train.loc[data_train['rez_esc'].isnull()]['age'].describe()"
   ]
  },
  {
   "cell_type": "code",
   "execution_count": 26,
   "id": "06c04c62",
   "metadata": {},
   "outputs": [
    {
     "data": {
      "text/plain": [
       "count     1.0\n",
       "mean     10.0\n",
       "std       NaN\n",
       "min      10.0\n",
       "25%      10.0\n",
       "50%      10.0\n",
       "75%      10.0\n",
       "max      10.0\n",
       "Name: age, dtype: float64"
      ]
     },
     "execution_count": 26,
     "metadata": {},
     "output_type": "execute_result"
    }
   ],
   "source": [
    "data_train.loc[(data_train['rez_esc'].isnull() & ((data_train['age'] > 7) & (data_train['age'] < 17)))]['age'].describe()"
   ]
  },
  {
   "cell_type": "markdown",
   "id": "fb2f242d",
   "metadata": {},
   "source": [
    "There is one value that has Null for the 'behind in school' column with age between 7 and 17 "
   ]
  },
  {
   "cell_type": "code",
   "execution_count": 27,
   "id": "1689b16e",
   "metadata": {},
   "outputs": [
    {
     "data": {
      "text/html": [
       "<div>\n",
       "<style scoped>\n",
       "    .dataframe tbody tr th:only-of-type {\n",
       "        vertical-align: middle;\n",
       "    }\n",
       "\n",
       "    .dataframe tbody tr th {\n",
       "        vertical-align: top;\n",
       "    }\n",
       "\n",
       "    .dataframe thead th {\n",
       "        text-align: right;\n",
       "    }\n",
       "</style>\n",
       "<table border=\"1\" class=\"dataframe\">\n",
       "  <thead>\n",
       "    <tr style=\"text-align: right;\">\n",
       "      <th></th>\n",
       "      <th>Id</th>\n",
       "      <th>v2a1</th>\n",
       "      <th>hacdor</th>\n",
       "      <th>rooms</th>\n",
       "      <th>hacapo</th>\n",
       "      <th>v14a</th>\n",
       "      <th>refrig</th>\n",
       "      <th>v18q</th>\n",
       "      <th>v18q1</th>\n",
       "      <th>r4h1</th>\n",
       "      <th>...</th>\n",
       "      <th>SQBescolari</th>\n",
       "      <th>SQBage</th>\n",
       "      <th>SQBhogar_total</th>\n",
       "      <th>SQBedjefe</th>\n",
       "      <th>SQBhogar_nin</th>\n",
       "      <th>SQBovercrowding</th>\n",
       "      <th>SQBdependency</th>\n",
       "      <th>SQBmeaned</th>\n",
       "      <th>agesq</th>\n",
       "      <th>Target</th>\n",
       "    </tr>\n",
       "  </thead>\n",
       "  <tbody>\n",
       "    <tr>\n",
       "      <th>2514</th>\n",
       "      <td>ID_f012e4242</td>\n",
       "      <td>160000.0</td>\n",
       "      <td>0</td>\n",
       "      <td>6</td>\n",
       "      <td>0</td>\n",
       "      <td>1</td>\n",
       "      <td>1</td>\n",
       "      <td>1</td>\n",
       "      <td>1.0</td>\n",
       "      <td>0</td>\n",
       "      <td>...</td>\n",
       "      <td>0</td>\n",
       "      <td>100</td>\n",
       "      <td>9</td>\n",
       "      <td>121</td>\n",
       "      <td>1</td>\n",
       "      <td>2.25</td>\n",
       "      <td>0.25</td>\n",
       "      <td>182.25</td>\n",
       "      <td>100</td>\n",
       "      <td>4</td>\n",
       "    </tr>\n",
       "  </tbody>\n",
       "</table>\n",
       "<p>1 rows × 143 columns</p>\n",
       "</div>"
      ],
      "text/plain": [
       "                Id      v2a1  hacdor  rooms  hacapo  v14a  refrig  v18q  \\\n",
       "2514  ID_f012e4242  160000.0       0      6       0     1       1     1   \n",
       "\n",
       "      v18q1  r4h1  ...  SQBescolari  SQBage  SQBhogar_total  SQBedjefe  \\\n",
       "2514    1.0     0  ...            0     100               9        121   \n",
       "\n",
       "      SQBhogar_nin  SQBovercrowding  SQBdependency  SQBmeaned  agesq  Target  \n",
       "2514             1             2.25           0.25     182.25    100       4  \n",
       "\n",
       "[1 rows x 143 columns]"
      ]
     },
     "execution_count": 27,
     "metadata": {},
     "output_type": "execute_result"
    }
   ],
   "source": [
    "data_train[(data_train['age'] ==10) & data_train['rez_esc'].isnull()].head()\n",
    "data_train[(data_train['Id'] =='ID_f012e4242')].head()"
   ]
  },
  {
   "cell_type": "markdown",
   "id": "ff00e05e",
   "metadata": {},
   "source": [
    "There is only one member in household for the member with age 10 and who is 'behind in school'. This explains why the member is \n",
    "behind in school."
   ]
  },
  {
   "cell_type": "code",
   "execution_count": 28,
   "id": "87825b57",
   "metadata": {},
   "outputs": [
    {
     "data": {
      "text/plain": [
       "rez_esc    0\n",
       "dtype: int64"
      ]
     },
     "execution_count": 28,
     "metadata": {},
     "output_type": "execute_result"
    }
   ],
   "source": [
    "for data in [data_train, data_test]:\n",
    "    data['rez_esc'].fillna(value=0, inplace=True)\n",
    "data_train[['rez_esc']].isnull().sum()"
   ]
  },
  {
   "cell_type": "markdown",
   "id": "dd683f95",
   "metadata": {},
   "source": [
    "##### Checking for null values meaneduc"
   ]
  },
  {
   "cell_type": "code",
   "execution_count": 29,
   "id": "bd4897ab",
   "metadata": {},
   "outputs": [
    {
     "data": {
      "text/html": [
       "<div>\n",
       "<style scoped>\n",
       "    .dataframe tbody tr th:only-of-type {\n",
       "        vertical-align: middle;\n",
       "    }\n",
       "\n",
       "    .dataframe tbody tr th {\n",
       "        vertical-align: top;\n",
       "    }\n",
       "\n",
       "    .dataframe thead th {\n",
       "        text-align: right;\n",
       "    }\n",
       "</style>\n",
       "<table border=\"1\" class=\"dataframe\">\n",
       "  <thead>\n",
       "    <tr style=\"text-align: right;\">\n",
       "      <th></th>\n",
       "      <th>instlevel1</th>\n",
       "      <th>instlevel2</th>\n",
       "    </tr>\n",
       "  </thead>\n",
       "  <tbody>\n",
       "    <tr>\n",
       "      <th>count</th>\n",
       "      <td>0.0</td>\n",
       "      <td>0.0</td>\n",
       "    </tr>\n",
       "    <tr>\n",
       "      <th>mean</th>\n",
       "      <td>NaN</td>\n",
       "      <td>NaN</td>\n",
       "    </tr>\n",
       "    <tr>\n",
       "      <th>std</th>\n",
       "      <td>NaN</td>\n",
       "      <td>NaN</td>\n",
       "    </tr>\n",
       "    <tr>\n",
       "      <th>min</th>\n",
       "      <td>NaN</td>\n",
       "      <td>NaN</td>\n",
       "    </tr>\n",
       "    <tr>\n",
       "      <th>25%</th>\n",
       "      <td>NaN</td>\n",
       "      <td>NaN</td>\n",
       "    </tr>\n",
       "    <tr>\n",
       "      <th>50%</th>\n",
       "      <td>NaN</td>\n",
       "      <td>NaN</td>\n",
       "    </tr>\n",
       "    <tr>\n",
       "      <th>75%</th>\n",
       "      <td>NaN</td>\n",
       "      <td>NaN</td>\n",
       "    </tr>\n",
       "    <tr>\n",
       "      <th>max</th>\n",
       "      <td>NaN</td>\n",
       "      <td>NaN</td>\n",
       "    </tr>\n",
       "  </tbody>\n",
       "</table>\n",
       "</div>"
      ],
      "text/plain": [
       "       instlevel1  instlevel2\n",
       "count         0.0         0.0\n",
       "mean          NaN         NaN\n",
       "std           NaN         NaN\n",
       "min           NaN         NaN\n",
       "25%           NaN         NaN\n",
       "50%           NaN         NaN\n",
       "75%           NaN         NaN\n",
       "max           NaN         NaN"
      ]
     },
     "execution_count": 29,
     "metadata": {},
     "output_type": "execute_result"
    }
   ],
   "source": [
    "data = data_train[data_train['meaneduc'].isnull()].head()\n",
    "\n",
    "columns=['edjefe','edjefa','instlevel1','instlevel2']\n",
    "data[columns][data[columns]['instlevel1']>0].describe()"
   ]
  },
  {
   "cell_type": "code",
   "execution_count": 30,
   "id": "aa7e015a",
   "metadata": {},
   "outputs": [
    {
     "data": {
      "text/plain": [
       "meaneduc    0\n",
       "dtype: int64"
      ]
     },
     "execution_count": 30,
     "metadata": {},
     "output_type": "execute_result"
    }
   ],
   "source": [
    "for data in [data_train, data_test]:\n",
    "    data['meaneduc'].fillna(value=0, inplace=True)\n",
    "data_train[['meaneduc']].isnull().sum()"
   ]
  },
  {
   "cell_type": "markdown",
   "id": "8d460333",
   "metadata": {},
   "source": [
    "#####  Checking for null values SQBmeaned"
   ]
  },
  {
   "cell_type": "code",
   "execution_count": 31,
   "id": "09cff4c9",
   "metadata": {},
   "outputs": [
    {
     "data": {
      "text/plain": [
       "SQBmeaned    0\n",
       "dtype: int64"
      ]
     },
     "execution_count": 31,
     "metadata": {},
     "output_type": "execute_result"
    }
   ],
   "source": [
    "for data in [data_train, data_test]:\n",
    "    data['SQBmeaned'].fillna(value=0, inplace=True)\n",
    "data_train[['SQBmeaned']].isnull().sum()"
   ]
  },
  {
   "cell_type": "markdown",
   "id": "3f026585",
   "metadata": {},
   "source": [
    "We find that SQBmeaned is null when no level of education is 0"
   ]
  },
  {
   "cell_type": "markdown",
   "id": "85d1ec24",
   "metadata": {},
   "source": [
    "### Remove null value rows of the target variable."
   ]
  },
  {
   "cell_type": "code",
   "execution_count": 32,
   "id": "8ca7abe6",
   "metadata": {},
   "outputs": [
    {
     "data": {
      "text/plain": [
       "0"
      ]
     },
     "execution_count": 32,
     "metadata": {},
     "output_type": "execute_result"
    }
   ],
   "source": [
    "data_train[target_col].isnull().sum()"
   ]
  },
  {
   "cell_type": "markdown",
   "id": "1aa7da3a",
   "metadata": {},
   "source": [
    "No Null values found in train data set for Target column"
   ]
  },
  {
   "cell_type": "markdown",
   "id": "f46a90be",
   "metadata": {},
   "source": [
    "### Predict the accuracy using random forest classifier. (Try other models too)"
   ]
  },
  {
   "cell_type": "markdown",
   "id": "5e27db21",
   "metadata": {},
   "source": [
    "##### Data Processing"
   ]
  },
  {
   "cell_type": "markdown",
   "id": "707f4c3b",
   "metadata": {},
   "source": [
    "#### Categorise alpha numeric column"
   ]
  },
  {
   "cell_type": "markdown",
   "id": "9b9a5d31",
   "metadata": {},
   "source": [
    "###### Dependency"
   ]
  },
  {
   "cell_type": "code",
   "execution_count": 33,
   "id": "8ce39d50",
   "metadata": {
    "scrolled": true
   },
   "outputs": [
    {
     "data": {
      "text/plain": [
       "yes          2192\n",
       "no           1747\n",
       ".5           1497\n",
       "2             730\n",
       "1.5           713\n",
       ".33333334     598\n",
       ".66666669     487\n",
       "8             378\n",
       ".25           260\n",
       "3             236\n",
       "4             100\n",
       ".75            98\n",
       ".2             90\n",
       ".40000001      84\n",
       "1.3333334      84\n",
       "2.5            77\n",
       "5              24\n",
       "1.25           18\n",
       "3.5            18\n",
       ".80000001      18\n",
       "2.25           13\n",
       ".71428573      12\n",
       "1.75           11\n",
       "1.2            11\n",
       ".83333331      11\n",
       ".22222222      11\n",
       ".2857143        9\n",
       "1.6666666       8\n",
       ".60000002       8\n",
       "6               7\n",
       ".16666667       7\n",
       "Name: dependency, dtype: int64"
      ]
     },
     "execution_count": 33,
     "metadata": {},
     "output_type": "execute_result"
    }
   ],
   "source": [
    "# Dependency: # of members less than 19 or more than 64 / # of memebers b/w 19 and 64 \n",
    "data_train['dependency'].value_counts()"
   ]
  },
  {
   "cell_type": "markdown",
   "id": "f1021870",
   "metadata": {},
   "source": [
    "Since it is not clear if how much does a yes quantify to proceeding with assumption of 1 for `yes` and 0 for `no`"
   ]
  },
  {
   "cell_type": "code",
   "execution_count": 34,
   "id": "086dca44",
   "metadata": {},
   "outputs": [],
   "source": [
    "def map(i):\n",
    "    \n",
    "    if i=='yes':\n",
    "        return(float(1))\n",
    "    elif i=='no':\n",
    "        return(float(0))\n",
    "    else:\n",
    "        return(float(i))"
   ]
  },
  {
   "cell_type": "code",
   "execution_count": 35,
   "id": "395c899f",
   "metadata": {},
   "outputs": [],
   "source": [
    "data_train['dependency']=data_train['dependency'].apply(map)"
   ]
  },
  {
   "cell_type": "code",
   "execution_count": 36,
   "id": "2e6e6fbb",
   "metadata": {},
   "outputs": [
    {
     "data": {
      "text/plain": [
       "dtype('float64')"
      ]
     },
     "execution_count": 36,
     "metadata": {},
     "output_type": "execute_result"
    }
   ],
   "source": [
    "data_train.dependency.dtypes"
   ]
  },
  {
   "cell_type": "code",
   "execution_count": 37,
   "id": "a92a38dd",
   "metadata": {},
   "outputs": [
    {
     "data": {
      "text/plain": [
       "0"
      ]
     },
     "execution_count": 37,
     "metadata": {},
     "output_type": "execute_result"
    }
   ],
   "source": [
    "data_train['dependency'].isnull().sum()"
   ]
  },
  {
   "cell_type": "markdown",
   "id": "01618d31",
   "metadata": {},
   "source": [
    "###### edjefe & edjefa"
   ]
  },
  {
   "cell_type": "markdown",
   "id": "de47757f",
   "metadata": {},
   "source": [
    "`edjefe` and `edjefa` features are not clear and wasn't able to find proper definiton so dropping them."
   ]
  },
  {
   "cell_type": "code",
   "execution_count": 38,
   "id": "4be1447c",
   "metadata": {},
   "outputs": [],
   "source": [
    "data_train = data_train.drop(columns = ['edjefe', 'edjefa'])"
   ]
  },
  {
   "cell_type": "markdown",
   "id": "e3fad677",
   "metadata": {},
   "source": [
    "###### train & test split"
   ]
  },
  {
   "cell_type": "code",
   "execution_count": 39,
   "id": "eab9d78f",
   "metadata": {},
   "outputs": [],
   "source": [
    "X = data_train.drop(columns=[target_col])"
   ]
  },
  {
   "cell_type": "code",
   "execution_count": 40,
   "id": "e516c98a",
   "metadata": {},
   "outputs": [],
   "source": [
    "y = data_train[[target_col]]"
   ]
  },
  {
   "cell_type": "code",
   "execution_count": 41,
   "id": "ccee08ee",
   "metadata": {},
   "outputs": [],
   "source": [
    "from sklearn.model_selection import train_test_split\n",
    "X_train, X_test, y_train, y_test = train_test_split(X, y,\n",
    "                                                    random_state=42,\n",
    "                                                    train_size=0.8)"
   ]
  },
  {
   "cell_type": "code",
   "execution_count": 42,
   "id": "7d7cd79a",
   "metadata": {},
   "outputs": [
    {
     "data": {
      "text/plain": [
       "(7645, 140)"
      ]
     },
     "execution_count": 42,
     "metadata": {},
     "output_type": "execute_result"
    }
   ],
   "source": [
    "X_train.shape"
   ]
  },
  {
   "cell_type": "code",
   "execution_count": 43,
   "id": "a50a87e9",
   "metadata": {},
   "outputs": [
    {
     "data": {
      "text/plain": [
       "(1912, 140)"
      ]
     },
     "execution_count": 43,
     "metadata": {},
     "output_type": "execute_result"
    }
   ],
   "source": [
    "X_test.shape"
   ]
  },
  {
   "cell_type": "markdown",
   "id": "17596843",
   "metadata": {},
   "source": [
    "#### EDA"
   ]
  },
  {
   "cell_type": "markdown",
   "id": "fbe24c2e",
   "metadata": {},
   "source": [
    "###### Output variable distribution"
   ]
  },
  {
   "cell_type": "code",
   "execution_count": 44,
   "id": "78a8b407",
   "metadata": {},
   "outputs": [
    {
     "data": {
      "text/plain": [
       "4    63.047744\n",
       "2    16.429039\n",
       "3    12.609549\n",
       "1     7.913669\n",
       "Name: Target, dtype: float64"
      ]
     },
     "execution_count": 44,
     "metadata": {},
     "output_type": "execute_result"
    }
   ],
   "source": [
    "target_counts=(y_train[target_col].value_counts() / y_train.shape[0]) * 100\n",
    "target_counts"
   ]
  },
  {
   "cell_type": "code",
   "execution_count": 45,
   "id": "efe2c2ac",
   "metadata": {},
   "outputs": [
    {
     "data": {
      "text/plain": [
       "<AxesSubplot:title={'center':'Target vs Total_Count'}>"
      ]
     },
     "execution_count": 45,
     "metadata": {},
     "output_type": "execute_result"
    },
    {
     "data": {
      "image/png": "[encoded data removed]",
      "text/plain": [
       "<Figure size 576x432 with 1 Axes>"
      ]
     },
     "metadata": {
      "needs_background": "light"
     },
     "output_type": "display_data"
    }
   ],
   "source": [
    "target_counts.plot.bar(figsize = (8, 6),linewidth = 2,edgecolor = 'k',title=\"Target vs Total_Count\")"
   ]
  },
  {
   "cell_type": "code",
   "execution_count": null,
   "id": "c494566b",
   "metadata": {},
   "outputs": [],
   "source": []
  },
  {
   "cell_type": "markdown",
   "id": "515302b3",
   "metadata": {},
   "source": [
    "###### Output variable trends with raw data available "
   ]
  },
  {
   "cell_type": "code",
   "execution_count": 46,
   "id": "78fe3d73",
   "metadata": {},
   "outputs": [],
   "source": [
    "X_train['output_label'] = y_train.values"
   ]
  },
  {
   "cell_type": "code",
   "execution_count": 47,
   "id": "775e3c36",
   "metadata": {},
   "outputs": [
    {
     "data": {
      "text/plain": [
       "<AxesSubplot:xlabel='output_label'>"
      ]
     },
     "execution_count": 47,
     "metadata": {},
     "output_type": "execute_result"
    },
    {
     "data": {
      "image/png": "[encoded data removed]",
      "text/plain": [
       "<Figure size 432x288 with 1 Axes>"
      ]
     },
     "metadata": {
      "needs_background": "light"
     },
     "output_type": "display_data"
    }
   ],
   "source": [
    "X_train.groupby(['output_label', 'hacdor']).Id.count().unstack().plot(kind='bar')"
   ]
  },
  {
   "cell_type": "markdown",
   "id": "fda314d2",
   "metadata": {},
   "source": [
    "Hacdor doesn't seems to provide valuable insight about a person being in particular poverty category or not except for the fact that already biased data showing that if they don't have overcrouded bedroom they are likely to be in category `4`, will have to revisit about viability of this feature later"
   ]
  },
  {
   "cell_type": "code",
   "execution_count": 48,
   "id": "7464bf75",
   "metadata": {},
   "outputs": [
    {
     "data": {
      "text/plain": [
       "<AxesSubplot:xlabel='rooms'>"
      ]
     },
     "execution_count": 48,
     "metadata": {},
     "output_type": "execute_result"
    },
    {
     "data": {
      "image/png": "[encoded data removed]",
      "text/plain": [
       "<Figure size 720x288 with 2 Axes>"
      ]
     },
     "metadata": {
      "needs_background": "light"
     },
     "output_type": "display_data"
    }
   ],
   "source": [
    "fig, axes = plt.subplots(nrows=1, ncols=2, figsize=(10, 4))\n",
    "room_distribution = X_train['rooms'].value_counts()\n",
    "room_count_x_output_label = X_train.groupby(['rooms', 'output_label']).Id.count().unstack()\n",
    "room_distribution.plot(ax=axes[0], kind='pie')\n",
    "room_count_x_output_label.plot(ax=axes[1], kind='bar')"
   ]
  },
  {
   "cell_type": "markdown",
   "id": "1c0814f1",
   "metadata": {},
   "source": [
    "The graph above shows that most of the house holds have 5 rooms or 4 rooms per house of family covering more than 50% of data available in training set, however couldn't find a reliable pattern with output label"
   ]
  },
  {
   "cell_type": "code",
   "execution_count": 49,
   "id": "716bf399",
   "metadata": {},
   "outputs": [
    {
     "data": {
      "text/html": [
       "<div>\n",
       "<style scoped>\n",
       "    .dataframe tbody tr th:only-of-type {\n",
       "        vertical-align: middle;\n",
       "    }\n",
       "\n",
       "    .dataframe tbody tr th {\n",
       "        vertical-align: top;\n",
       "    }\n",
       "\n",
       "    .dataframe thead th {\n",
       "        text-align: right;\n",
       "    }\n",
       "</style>\n",
       "<table border=\"1\" class=\"dataframe\">\n",
       "  <thead>\n",
       "    <tr style=\"text-align: right;\">\n",
       "      <th>v18q</th>\n",
       "      <th>0</th>\n",
       "      <th>1</th>\n",
       "    </tr>\n",
       "    <tr>\n",
       "      <th>output_label</th>\n",
       "      <th></th>\n",
       "      <th></th>\n",
       "    </tr>\n",
       "  </thead>\n",
       "  <tbody>\n",
       "    <tr>\n",
       "      <th>1</th>\n",
       "      <td>561</td>\n",
       "      <td>44</td>\n",
       "    </tr>\n",
       "    <tr>\n",
       "      <th>2</th>\n",
       "      <td>1162</td>\n",
       "      <td>94</td>\n",
       "    </tr>\n",
       "    <tr>\n",
       "      <th>3</th>\n",
       "      <td>851</td>\n",
       "      <td>113</td>\n",
       "    </tr>\n",
       "    <tr>\n",
       "      <th>4</th>\n",
       "      <td>3324</td>\n",
       "      <td>1496</td>\n",
       "    </tr>\n",
       "  </tbody>\n",
       "</table>\n",
       "</div>"
      ],
      "text/plain": [
       "v18q             0     1\n",
       "output_label            \n",
       "1              561    44\n",
       "2             1162    94\n",
       "3              851   113\n",
       "4             3324  1496"
      ]
     },
     "execution_count": 49,
     "metadata": {},
     "output_type": "execute_result"
    }
   ],
   "source": [
    "X_train.groupby(['output_label', 'v18q']).Id.count().unstack()"
   ]
  },
  {
   "cell_type": "markdown",
   "id": "de6ef54c",
   "metadata": {},
   "source": [
    "Above matrix shows that it is more likely that if a person owns a tablet, he is more likely to be category 4 compared to other categories but this could still also be due to the bias in data from category 4 "
   ]
  },
  {
   "cell_type": "markdown",
   "id": "210fdec1",
   "metadata": {},
   "source": [
    "we can make gender column from `male` and `female` column"
   ]
  },
  {
   "cell_type": "code",
   "execution_count": 50,
   "id": "28371376",
   "metadata": {},
   "outputs": [
    {
     "data": {
      "text/html": [
       "<div>\n",
       "<style scoped>\n",
       "    .dataframe tbody tr th:only-of-type {\n",
       "        vertical-align: middle;\n",
       "    }\n",
       "\n",
       "    .dataframe tbody tr th {\n",
       "        vertical-align: top;\n",
       "    }\n",
       "\n",
       "    .dataframe thead th {\n",
       "        text-align: right;\n",
       "    }\n",
       "</style>\n",
       "<table border=\"1\" class=\"dataframe\">\n",
       "  <thead>\n",
       "    <tr style=\"text-align: right;\">\n",
       "      <th></th>\n",
       "      <th>male</th>\n",
       "      <th>female</th>\n",
       "    </tr>\n",
       "  </thead>\n",
       "  <tbody>\n",
       "    <tr>\n",
       "      <th>9025</th>\n",
       "      <td>0</td>\n",
       "      <td>1</td>\n",
       "    </tr>\n",
       "    <tr>\n",
       "      <th>742</th>\n",
       "      <td>0</td>\n",
       "      <td>1</td>\n",
       "    </tr>\n",
       "    <tr>\n",
       "      <th>180</th>\n",
       "      <td>1</td>\n",
       "      <td>0</td>\n",
       "    </tr>\n",
       "    <tr>\n",
       "      <th>1115</th>\n",
       "      <td>0</td>\n",
       "      <td>1</td>\n",
       "    </tr>\n",
       "    <tr>\n",
       "      <th>9090</th>\n",
       "      <td>1</td>\n",
       "      <td>0</td>\n",
       "    </tr>\n",
       "  </tbody>\n",
       "</table>\n",
       "</div>"
      ],
      "text/plain": [
       "      male  female\n",
       "9025     0       1\n",
       "742      0       1\n",
       "180      1       0\n",
       "1115     0       1\n",
       "9090     1       0"
      ]
     },
     "execution_count": 50,
     "metadata": {},
     "output_type": "execute_result"
    }
   ],
   "source": [
    "X_train[['male', 'female']].head(5)"
   ]
  },
  {
   "cell_type": "code",
   "execution_count": 51,
   "id": "6ee12df3",
   "metadata": {},
   "outputs": [],
   "source": [
    "X_train['gender'] = np.where(X_train['female'], 1, 0)"
   ]
  },
  {
   "cell_type": "code",
   "execution_count": 52,
   "id": "3e8218d9",
   "metadata": {},
   "outputs": [
    {
     "data": {
      "text/html": [
       "<div>\n",
       "<style scoped>\n",
       "    .dataframe tbody tr th:only-of-type {\n",
       "        vertical-align: middle;\n",
       "    }\n",
       "\n",
       "    .dataframe tbody tr th {\n",
       "        vertical-align: top;\n",
       "    }\n",
       "\n",
       "    .dataframe thead th {\n",
       "        text-align: right;\n",
       "    }\n",
       "</style>\n",
       "<table border=\"1\" class=\"dataframe\">\n",
       "  <thead>\n",
       "    <tr style=\"text-align: right;\">\n",
       "      <th>gender</th>\n",
       "      <th>0</th>\n",
       "      <th>1</th>\n",
       "    </tr>\n",
       "    <tr>\n",
       "      <th>output_label</th>\n",
       "      <th></th>\n",
       "      <th></th>\n",
       "    </tr>\n",
       "  </thead>\n",
       "  <tbody>\n",
       "    <tr>\n",
       "      <th>1</th>\n",
       "      <td>264</td>\n",
       "      <td>341</td>\n",
       "    </tr>\n",
       "    <tr>\n",
       "      <th>2</th>\n",
       "      <td>600</td>\n",
       "      <td>656</td>\n",
       "    </tr>\n",
       "    <tr>\n",
       "      <th>3</th>\n",
       "      <td>454</td>\n",
       "      <td>510</td>\n",
       "    </tr>\n",
       "    <tr>\n",
       "      <th>4</th>\n",
       "      <td>2406</td>\n",
       "      <td>2414</td>\n",
       "    </tr>\n",
       "  </tbody>\n",
       "</table>\n",
       "</div>"
      ],
      "text/plain": [
       "gender           0     1\n",
       "output_label            \n",
       "1              264   341\n",
       "2              600   656\n",
       "3              454   510\n",
       "4             2406  2414"
      ]
     },
     "execution_count": 52,
     "metadata": {},
     "output_type": "execute_result"
    }
   ],
   "source": [
    "X_train.groupby(['output_label', 'gender']).Id.count().unstack()"
   ]
  },
  {
   "cell_type": "markdown",
   "id": "ac2b9c52",
   "metadata": {},
   "source": [
    "The distribution of poverty marking seems to qually distributed across genders"
   ]
  },
  {
   "cell_type": "markdown",
   "id": "be294fef",
   "metadata": {},
   "source": [
    "Similarly we can reduce Zone column into single column"
   ]
  },
  {
   "cell_type": "code",
   "execution_count": 53,
   "id": "3273ae0d",
   "metadata": {},
   "outputs": [],
   "source": [
    "X_train['zone'] = np.where(X_train['area1'], 1, 0)"
   ]
  },
  {
   "cell_type": "code",
   "execution_count": 54,
   "id": "33b5ca4e",
   "metadata": {},
   "outputs": [
    {
     "data": {
      "text/plain": [
       "<AxesSubplot:xlabel='output_label'>"
      ]
     },
     "execution_count": 54,
     "metadata": {},
     "output_type": "execute_result"
    },
    {
     "data": {
      "image/png": "[encoded data removed]",
      "text/plain": [
       "<Figure size 576x216 with 1 Axes>"
      ]
     },
     "metadata": {
      "needs_background": "light"
     },
     "output_type": "display_data"
    }
   ],
   "source": [
    "\n",
    "X_train.groupby(['output_label', 'zone']).Id.count().unstack().plot(kind='bar', figsize=(8, 3))"
   ]
  },
  {
   "cell_type": "markdown",
   "id": "f4e1c54f",
   "metadata": {},
   "source": [
    "Above graph shows a skewness of higher chance of people being in urban zone compared to rural and fall under category 4 however even for rural category 4 seems to be the prominent one."
   ]
  },
  {
   "cell_type": "markdown",
   "id": "2b1faa37",
   "metadata": {},
   "source": [
    "Combining regions to get better perspective of distribution across region for poverty"
   ]
  },
  {
   "cell_type": "code",
   "execution_count": 55,
   "id": "2171eeff",
   "metadata": {},
   "outputs": [
    {
     "data": {
      "text/html": [
       "<div>\n",
       "<style scoped>\n",
       "    .dataframe tbody tr th:only-of-type {\n",
       "        vertical-align: middle;\n",
       "    }\n",
       "\n",
       "    .dataframe tbody tr th {\n",
       "        vertical-align: top;\n",
       "    }\n",
       "\n",
       "    .dataframe thead th {\n",
       "        text-align: right;\n",
       "    }\n",
       "</style>\n",
       "<table border=\"1\" class=\"dataframe\">\n",
       "  <thead>\n",
       "    <tr style=\"text-align: right;\">\n",
       "      <th></th>\n",
       "      <th>lugar1</th>\n",
       "      <th>lugar2</th>\n",
       "      <th>lugar3</th>\n",
       "      <th>lugar4</th>\n",
       "      <th>lugar5</th>\n",
       "      <th>lugar6</th>\n",
       "    </tr>\n",
       "  </thead>\n",
       "  <tbody>\n",
       "    <tr>\n",
       "      <th>9025</th>\n",
       "      <td>0</td>\n",
       "      <td>0</td>\n",
       "      <td>0</td>\n",
       "      <td>0</td>\n",
       "      <td>0</td>\n",
       "      <td>1</td>\n",
       "    </tr>\n",
       "    <tr>\n",
       "      <th>742</th>\n",
       "      <td>1</td>\n",
       "      <td>0</td>\n",
       "      <td>0</td>\n",
       "      <td>0</td>\n",
       "      <td>0</td>\n",
       "      <td>0</td>\n",
       "    </tr>\n",
       "    <tr>\n",
       "      <th>180</th>\n",
       "      <td>1</td>\n",
       "      <td>0</td>\n",
       "      <td>0</td>\n",
       "      <td>0</td>\n",
       "      <td>0</td>\n",
       "      <td>0</td>\n",
       "    </tr>\n",
       "  </tbody>\n",
       "</table>\n",
       "</div>"
      ],
      "text/plain": [
       "      lugar1  lugar2  lugar3  lugar4  lugar5  lugar6\n",
       "9025       0       0       0       0       0       1\n",
       "742        1       0       0       0       0       0\n",
       "180        1       0       0       0       0       0"
      ]
     },
     "execution_count": 55,
     "metadata": {},
     "output_type": "execute_result"
    }
   ],
   "source": [
    "X_train[['lugar1', 'lugar2', 'lugar3', 'lugar4', 'lugar5', 'lugar6']].head(3)"
   ]
  },
  {
   "cell_type": "code",
   "execution_count": 56,
   "id": "a522e98f",
   "metadata": {},
   "outputs": [],
   "source": [
    "X_train['region'] = np.where(\n",
    "        X_train['lugar1'] == 1, \"Central\",\n",
    "        np.where(\n",
    "            X_train['lugar2'] == 1, \"Chorotega\",\n",
    "            np.where(\n",
    "                X_train['lugar3'] == 1, \"PacÃƒÂfico central\",\n",
    "                np.where(\n",
    "                    X_train['lugar4'] == 1, \"Brunca\",\n",
    "                    np.where(\n",
    "                        X_train['lugar5'] == 1, \"Huetar AtlÃƒÂ¡ntica\",\n",
    "                        \"Huetar Norte\"\n",
    "                    )\n",
    "                )\n",
    "            )\n",
    "        )\n",
    ")"
   ]
  },
  {
   "cell_type": "code",
   "execution_count": 57,
   "id": "5d7483b9",
   "metadata": {},
   "outputs": [
    {
     "data": {
      "text/plain": [
       "<AxesSubplot:xlabel='output_label'>"
      ]
     },
     "execution_count": 57,
     "metadata": {},
     "output_type": "execute_result"
    },
    {
     "data": {
      "image/png": "[encoded data removed]",
      "text/plain": [
       "<Figure size 504x288 with 1 Axes>"
      ]
     },
     "metadata": {
      "needs_background": "light"
     },
     "output_type": "display_data"
    }
   ],
   "source": [
    "X_train.groupby(['output_label', 'region']).Id.count().unstack().plot(kind='bar', figsize=(7, 4))"
   ]
  },
  {
   "cell_type": "markdown",
   "id": "bcdba541",
   "metadata": {},
   "source": [
    "Above graph shows that majority of population is from central part and that too has a prominent category 4 population, this could also be due to inherit bias in data for category 4"
   ]
  },
  {
   "cell_type": "code",
   "execution_count": 58,
   "id": "99c185cb",
   "metadata": {},
   "outputs": [],
   "source": [
    "region_map = {\n",
    "    \"Central\": 0, \"Chorotega\": 1, \"PacÃƒÂfico central\": 2, \"Brunca\": 3, \"Huetar AtlÃƒÂ¡ntica\": 4, \"Huetar Norte\": 5\n",
    "}"
   ]
  },
  {
   "cell_type": "code",
   "execution_count": 59,
   "id": "68c2e79a",
   "metadata": {},
   "outputs": [],
   "source": [
    "X_train['region'] = X_train['region'].map(region_map)"
   ]
  },
  {
   "cell_type": "code",
   "execution_count": 60,
   "id": "f22bce18",
   "metadata": {},
   "outputs": [
    {
     "data": {
      "text/plain": [
       "<AxesSubplot:ylabel='Frequency'>"
      ]
     },
     "execution_count": 60,
     "metadata": {},
     "output_type": "execute_result"
    },
    {
     "data": {
      "image/png": "[encoded data removed]",
      "text/plain": [
       "<Figure size 432x288 with 1 Axes>"
      ]
     },
     "metadata": {
      "needs_background": "light"
     },
     "output_type": "display_data"
    }
   ],
   "source": [
    "X_train['age'].plot(kind='hist', bins=100)"
   ]
  },
  {
   "cell_type": "code",
   "execution_count": 61,
   "id": "7349d2ea",
   "metadata": {},
   "outputs": [
    {
     "data": {
      "text/plain": [
       "<AxesSubplot:ylabel='Frequency'>"
      ]
     },
     "execution_count": 61,
     "metadata": {},
     "output_type": "execute_result"
    },
    {
     "data": {
      "image/png": "[encoded data removed]",
      "text/plain": [
       "<Figure size 432x288 with 1 Axes>"
      ]
     },
     "metadata": {
      "needs_background": "light"
     },
     "output_type": "display_data"
    }
   ],
   "source": [
    "X_train['agesq'].plot(kind='hist')"
   ]
  },
  {
   "cell_type": "markdown",
   "id": "69fb535b",
   "metadata": {},
   "source": [
    "Age seems to be a right skewed distribution with majority of people being in age band of 15-30 years roughly."
   ]
  },
  {
   "cell_type": "code",
   "execution_count": 62,
   "id": "6b76c9f8",
   "metadata": {},
   "outputs": [
    {
     "data": {
      "text/plain": [
       "<AxesSubplot:xlabel='qmobilephone'>"
      ]
     },
     "execution_count": 62,
     "metadata": {},
     "output_type": "execute_result"
    },
    {
     "data": {
      "image/png": "[encoded data removed]",
      "text/plain": [
       "<Figure size 504x288 with 1 Axes>"
      ]
     },
     "metadata": {
      "needs_background": "light"
     },
     "output_type": "display_data"
    }
   ],
   "source": [
    "X_train.groupby(['qmobilephone','output_label']).Id.count().unstack().plot(kind='bar', figsize=(7, 4))"
   ]
  },
  {
   "cell_type": "code",
   "execution_count": 63,
   "id": "6018dafe",
   "metadata": {},
   "outputs": [],
   "source": [
    "X_train['has_mobile_or_phone'] = np.where(X_train['qmobilephone'] == 0, 0, 1)"
   ]
  },
  {
   "cell_type": "code",
   "execution_count": 64,
   "id": "4c1baa2a",
   "metadata": {},
   "outputs": [
    {
     "data": {
      "text/html": [
       "<div>\n",
       "<style scoped>\n",
       "    .dataframe tbody tr th:only-of-type {\n",
       "        vertical-align: middle;\n",
       "    }\n",
       "\n",
       "    .dataframe tbody tr th {\n",
       "        vertical-align: top;\n",
       "    }\n",
       "\n",
       "    .dataframe thead th {\n",
       "        text-align: right;\n",
       "    }\n",
       "</style>\n",
       "<table border=\"1\" class=\"dataframe\">\n",
       "  <thead>\n",
       "    <tr style=\"text-align: right;\">\n",
       "      <th>output_label</th>\n",
       "      <th>1</th>\n",
       "      <th>2</th>\n",
       "      <th>3</th>\n",
       "      <th>4</th>\n",
       "    </tr>\n",
       "    <tr>\n",
       "      <th>has_mobile_or_phone</th>\n",
       "      <th></th>\n",
       "      <th></th>\n",
       "      <th></th>\n",
       "      <th></th>\n",
       "    </tr>\n",
       "  </thead>\n",
       "  <tbody>\n",
       "    <tr>\n",
       "      <th>0</th>\n",
       "      <td>31</td>\n",
       "      <td>60</td>\n",
       "      <td>39</td>\n",
       "      <td>54</td>\n",
       "    </tr>\n",
       "    <tr>\n",
       "      <th>1</th>\n",
       "      <td>574</td>\n",
       "      <td>1196</td>\n",
       "      <td>925</td>\n",
       "      <td>4766</td>\n",
       "    </tr>\n",
       "  </tbody>\n",
       "</table>\n",
       "</div>"
      ],
      "text/plain": [
       "output_label           1     2    3     4\n",
       "has_mobile_or_phone                      \n",
       "0                     31    60   39    54\n",
       "1                    574  1196  925  4766"
      ]
     },
     "execution_count": 64,
     "metadata": {},
     "output_type": "execute_result"
    }
   ],
   "source": [
    "X_train.groupby(['has_mobile_or_phone', 'output_label']).Id.count().unstack()"
   ]
  },
  {
   "cell_type": "markdown",
   "id": "fde35026",
   "metadata": {},
   "source": [
    "Couldn't find a valuable insight from a person being in poverty and having of mobile or phone "
   ]
  },
  {
   "cell_type": "code",
   "execution_count": 65,
   "id": "9488afcf",
   "metadata": {},
   "outputs": [
    {
     "data": {
      "text/html": [
       "<div>\n",
       "<style scoped>\n",
       "    .dataframe tbody tr th:only-of-type {\n",
       "        vertical-align: middle;\n",
       "    }\n",
       "\n",
       "    .dataframe tbody tr th {\n",
       "        vertical-align: top;\n",
       "    }\n",
       "\n",
       "    .dataframe thead th {\n",
       "        text-align: right;\n",
       "    }\n",
       "</style>\n",
       "<table border=\"1\" class=\"dataframe\">\n",
       "  <thead>\n",
       "    <tr style=\"text-align: right;\">\n",
       "      <th></th>\n",
       "      <th>tipovivi1</th>\n",
       "      <th>tipovivi2</th>\n",
       "      <th>tipovivi3</th>\n",
       "      <th>tipovivi4</th>\n",
       "      <th>tipovivi5</th>\n",
       "    </tr>\n",
       "  </thead>\n",
       "  <tbody>\n",
       "    <tr>\n",
       "      <th>9025</th>\n",
       "      <td>1</td>\n",
       "      <td>0</td>\n",
       "      <td>0</td>\n",
       "      <td>0</td>\n",
       "      <td>0</td>\n",
       "    </tr>\n",
       "    <tr>\n",
       "      <th>742</th>\n",
       "      <td>0</td>\n",
       "      <td>1</td>\n",
       "      <td>0</td>\n",
       "      <td>0</td>\n",
       "      <td>0</td>\n",
       "    </tr>\n",
       "    <tr>\n",
       "      <th>180</th>\n",
       "      <td>1</td>\n",
       "      <td>0</td>\n",
       "      <td>0</td>\n",
       "      <td>0</td>\n",
       "      <td>0</td>\n",
       "    </tr>\n",
       "    <tr>\n",
       "      <th>1115</th>\n",
       "      <td>0</td>\n",
       "      <td>0</td>\n",
       "      <td>1</td>\n",
       "      <td>0</td>\n",
       "      <td>0</td>\n",
       "    </tr>\n",
       "    <tr>\n",
       "      <th>9090</th>\n",
       "      <td>0</td>\n",
       "      <td>1</td>\n",
       "      <td>0</td>\n",
       "      <td>0</td>\n",
       "      <td>0</td>\n",
       "    </tr>\n",
       "    <tr>\n",
       "      <th>...</th>\n",
       "      <td>...</td>\n",
       "      <td>...</td>\n",
       "      <td>...</td>\n",
       "      <td>...</td>\n",
       "      <td>...</td>\n",
       "    </tr>\n",
       "    <tr>\n",
       "      <th>5734</th>\n",
       "      <td>0</td>\n",
       "      <td>1</td>\n",
       "      <td>0</td>\n",
       "      <td>0</td>\n",
       "      <td>0</td>\n",
       "    </tr>\n",
       "    <tr>\n",
       "      <th>5191</th>\n",
       "      <td>1</td>\n",
       "      <td>0</td>\n",
       "      <td>0</td>\n",
       "      <td>0</td>\n",
       "      <td>0</td>\n",
       "    </tr>\n",
       "    <tr>\n",
       "      <th>5390</th>\n",
       "      <td>0</td>\n",
       "      <td>0</td>\n",
       "      <td>0</td>\n",
       "      <td>0</td>\n",
       "      <td>1</td>\n",
       "    </tr>\n",
       "    <tr>\n",
       "      <th>860</th>\n",
       "      <td>0</td>\n",
       "      <td>0</td>\n",
       "      <td>1</td>\n",
       "      <td>0</td>\n",
       "      <td>0</td>\n",
       "    </tr>\n",
       "    <tr>\n",
       "      <th>7270</th>\n",
       "      <td>0</td>\n",
       "      <td>1</td>\n",
       "      <td>0</td>\n",
       "      <td>0</td>\n",
       "      <td>0</td>\n",
       "    </tr>\n",
       "  </tbody>\n",
       "</table>\n",
       "<p>7645 rows × 5 columns</p>\n",
       "</div>"
      ],
      "text/plain": [
       "      tipovivi1  tipovivi2  tipovivi3  tipovivi4  tipovivi5\n",
       "9025          1          0          0          0          0\n",
       "742           0          1          0          0          0\n",
       "180           1          0          0          0          0\n",
       "1115          0          0          1          0          0\n",
       "9090          0          1          0          0          0\n",
       "...         ...        ...        ...        ...        ...\n",
       "5734          0          1          0          0          0\n",
       "5191          1          0          0          0          0\n",
       "5390          0          0          0          0          1\n",
       "860           0          0          1          0          0\n",
       "7270          0          1          0          0          0\n",
       "\n",
       "[7645 rows x 5 columns]"
      ]
     },
     "execution_count": 65,
     "metadata": {},
     "output_type": "execute_result"
    }
   ],
   "source": [
    "X_train[['tipovivi1', 'tipovivi2', 'tipovivi3', 'tipovivi4', 'tipovivi5']] "
   ]
  },
  {
   "cell_type": "code",
   "execution_count": 66,
   "id": "e4a1d40c",
   "metadata": {},
   "outputs": [],
   "source": [
    "X_train['house_status'] = np.where(\n",
    "        X_train['tipovivi1'] == 1, \"Owns house\",\n",
    "        np.where(\n",
    "            X_train['tipovivi2'] == 1, \"Owns, paying installment\",\n",
    "            np.where(\n",
    "                X_train['tipovivi3'] == 1, \"Rented\",\n",
    "                np.where(\n",
    "                    X_train['tipovivi4'] == 1, \"Precarious\",\n",
    "                    \"other(assigned, borrowed)\"    \n",
    "                    )\n",
    "                )\n",
    "            )\n",
    "        )"
   ]
  },
  {
   "cell_type": "code",
   "execution_count": 67,
   "id": "8e6cb261",
   "metadata": {},
   "outputs": [
    {
     "data": {
      "text/plain": [
       "<AxesSubplot:xlabel='output_label'>"
      ]
     },
     "execution_count": 67,
     "metadata": {},
     "output_type": "execute_result"
    },
    {
     "data": {
      "image/png": "[encoded data removed]",
      "text/plain": [
       "<Figure size 504x288 with 1 Axes>"
      ]
     },
     "metadata": {
      "needs_background": "light"
     },
     "output_type": "display_data"
    }
   ],
   "source": [
    "X_train.groupby(['output_label', 'house_status']).Id.count().unstack().plot(kind='bar', figsize=(7, 4))"
   ]
  },
  {
   "cell_type": "markdown",
   "id": "ae3bbe5e",
   "metadata": {},
   "source": [
    "House status shows an intresting insight that you are less likely to be in category 4 of target value if your house status is Precarious"
   ]
  },
  {
   "cell_type": "code",
   "execution_count": 68,
   "id": "699b5644",
   "metadata": {},
   "outputs": [],
   "source": [
    "map_house_status = {\n",
    "    \"Owns house\": 0, \"Owns, paying installment\": 1, \"Rented\": 2, \"Precarious\": 3, \"other(assigned, borrowed)\": 4\n",
    "}"
   ]
  },
  {
   "cell_type": "code",
   "execution_count": 69,
   "id": "6bcb65df",
   "metadata": {},
   "outputs": [],
   "source": [
    "X_train['house_status'] = X_train['house_status'].map(map_house_status)"
   ]
  },
  {
   "cell_type": "code",
   "execution_count": 70,
   "id": "580cff60",
   "metadata": {},
   "outputs": [],
   "source": [
    "X_train = X_train.drop(columns = ['Id','idhogar','output_label'])"
   ]
  },
  {
   "cell_type": "markdown",
   "id": "7d30593a",
   "metadata": {},
   "source": [
    "#### Feature Engineering"
   ]
  },
  {
   "cell_type": "code",
   "execution_count": 71,
   "id": "18b69a26",
   "metadata": {},
   "outputs": [],
   "source": [
    "# Gender\n",
    "X_test['gender'] = np.where(X_test['female'], 1, 0)\n",
    "# Zone\n",
    "X_test['zone'] = np.where(X_test['area1'], 1, 0)\n",
    "#Has mobile or not\n",
    "X_test['has_mobile_or_phone'] = np.where(X_test['qmobilephone'] == 0, 0, 1)\n",
    "# Region\n",
    "X_test['region'] = np.where(\n",
    "        X_test['lugar1'] == 1, \"Central\",\n",
    "        np.where(\n",
    "            X_test['lugar2'] == 1, \"Chorotega\",\n",
    "            np.where(\n",
    "                X_test['lugar3'] == 1, \"PacÃƒÂfico central\",\n",
    "                np.where(\n",
    "                    X_test['lugar4'] == 1, \"Brunca\",\n",
    "                    np.where(\n",
    "                        X_test['lugar5'] == 1, \"Huetar AtlÃƒÂ¡ntica\",\n",
    "                        \"Huetar Norte\"\n",
    "                    )\n",
    "                )\n",
    "            )\n",
    "       )\n",
    "  )\n",
    "\n",
    "# House Status\n",
    "X_test['house_status'] = np.where(\n",
    "        X_test['tipovivi1'] == 1, \"Owns house\",\n",
    "        np.where(\n",
    "            X_test['tipovivi2'] == 1, \"Owns, paying installment\",\n",
    "            np.where(\n",
    "                X_test['tipovivi3'] == 1, \"Rented\",\n",
    "                np.where(\n",
    "                    X_test['tipovivi4'] == 1, \"Precarious\",\n",
    "                    \"other(assigned, borrowed)\"    \n",
    "                    )\n",
    "                )\n",
    "            )\n",
    "        )"
   ]
  },
  {
   "cell_type": "code",
   "execution_count": 72,
   "id": "7479f1ec",
   "metadata": {},
   "outputs": [],
   "source": [
    "X_test['region'] = X_test['region'].map(region_map)"
   ]
  },
  {
   "cell_type": "code",
   "execution_count": 73,
   "id": "c2c16182",
   "metadata": {},
   "outputs": [],
   "source": [
    "X_test['house_status'] = X_test['house_status'].map(map_house_status)"
   ]
  },
  {
   "cell_type": "code",
   "execution_count": 74,
   "id": "71b6e6f7",
   "metadata": {},
   "outputs": [],
   "source": [
    "X_test = X_test.drop(columns = ['Id','idhogar'])"
   ]
  },
  {
   "cell_type": "markdown",
   "id": "3aac992e",
   "metadata": {},
   "source": [
    "## Models"
   ]
  },
  {
   "cell_type": "markdown",
   "id": "4c35f8cb",
   "metadata": {},
   "source": [
    "#### RandomForest"
   ]
  },
  {
   "cell_type": "code",
   "execution_count": 75,
   "id": "33a5ae3e",
   "metadata": {},
   "outputs": [],
   "source": [
    "model = RandomForestClassifier()"
   ]
  },
  {
   "cell_type": "code",
   "execution_count": 76,
   "id": "c4dca4e4",
   "metadata": {},
   "outputs": [
    {
     "name": "stderr",
     "output_type": "stream",
     "text": [
      "/var/folders/3c/lwghlsts08s19tyjdbv2ssd00000gn/T/ipykernel_93407/2721349307.py:1: DataConversionWarning: A column-vector y was passed when a 1d array was expected. Please change the shape of y to (n_samples,), for example using ravel().\n",
      "  model.fit(X_train,y_train)\n"
     ]
    },
    {
     "data": {
      "text/plain": [
       "RandomForestClassifier()"
      ]
     },
     "execution_count": 76,
     "metadata": {},
     "output_type": "execute_result"
    }
   ],
   "source": [
    "model.fit(X_train,y_train)"
   ]
  },
  {
   "cell_type": "code",
   "execution_count": 77,
   "id": "e40e23c2",
   "metadata": {},
   "outputs": [
    {
     "name": "stderr",
     "output_type": "stream",
     "text": [
      "/Users/saishruthicherukuri/opt/anaconda3/lib/python3.9/site-packages/sklearn/base.py:493: FutureWarning: The feature names should match those that were passed during fit. Starting version 1.2, an error will be raised.\n",
      "Feature names must be in the same order as they were in fit.\n",
      "\n",
      "  warnings.warn(message, FutureWarning)\n"
     ]
    }
   ],
   "source": [
    "y_predict = model.predict(X_test)"
   ]
  },
  {
   "cell_type": "code",
   "execution_count": 78,
   "id": "b02a7a5f",
   "metadata": {},
   "outputs": [
    {
     "name": "stdout",
     "output_type": "stream",
     "text": [
      "0.9288702928870293\n",
      "[[ 144    3    0   22]\n",
      " [   5  258    0   39]\n",
      " [   2    4  195   56]\n",
      " [   0    4    1 1179]]\n",
      "              precision    recall  f1-score   support\n",
      "\n",
      "           1       0.95      0.85      0.90       169\n",
      "           2       0.96      0.85      0.90       302\n",
      "           3       0.99      0.76      0.86       257\n",
      "           4       0.91      1.00      0.95      1184\n",
      "\n",
      "    accuracy                           0.93      1912\n",
      "   macro avg       0.95      0.87      0.90      1912\n",
      "weighted avg       0.93      0.93      0.93      1912\n",
      "\n"
     ]
    }
   ],
   "source": [
    "print(accuracy_score(y_test,y_predict))\n",
    "print(confusion_matrix(y_test,y_predict))\n",
    "print(classification_report(y_test,y_predict))"
   ]
  },
  {
   "cell_type": "markdown",
   "id": "b389fec6",
   "metadata": {},
   "source": [
    "###### Random Forest with K Folds"
   ]
  },
  {
   "cell_type": "code",
   "execution_count": 79,
   "id": "0f4839dd",
   "metadata": {},
   "outputs": [],
   "source": [
    "from sklearn.model_selection import KFold,cross_val_score"
   ]
  },
  {
   "cell_type": "code",
   "execution_count": 80,
   "id": "af5dae93",
   "metadata": {},
   "outputs": [
    {
     "name": "stdout",
     "output_type": "stream",
     "text": [
      "(9557, 140)\n",
      "(9557,)\n"
     ]
    }
   ],
   "source": [
    "x_features=data_train.iloc[:,0:-1]\n",
    "y_features=data_train.iloc[:,-1]\n",
    "print(x_features.shape)\n",
    "print(y_features.shape)"
   ]
  },
  {
   "cell_type": "code",
   "execution_count": 81,
   "id": "b988d9cb",
   "metadata": {},
   "outputs": [],
   "source": [
    "x_features = x_features.drop(columns = ['Id','idhogar'])"
   ]
  },
  {
   "cell_type": "markdown",
   "id": "b10dbf8f",
   "metadata": {},
   "source": [
    "###### Checking the score using default 10 trees"
   ]
  },
  {
   "cell_type": "code",
   "execution_count": 82,
   "id": "048e4af1",
   "metadata": {},
   "outputs": [
    {
     "name": "stdout",
     "output_type": "stream",
     "text": [
      "[0.93410042 0.94142259 0.92935636 0.93040293 0.93092622]\n",
      "93.32417035047041\n"
     ]
    }
   ],
   "source": [
    "seed=7\n",
    "kfold=KFold(n_splits=5,random_state=seed,shuffle=True)\n",
    "model=RandomForestClassifier(random_state=10,n_jobs = -1)\n",
    "print(cross_val_score(model,x_features,y_features,cv=kfold,scoring='accuracy',error_score='raise'))\n",
    "results=cross_val_score(model,x_features,y_features,cv=kfold,scoring='accuracy',error_score='raise')\n",
    "print(results.mean()*100)"
   ]
  },
  {
   "cell_type": "markdown",
   "id": "a1f84e58",
   "metadata": {},
   "source": [
    "###### Checking the score using 100 trees"
   ]
  },
  {
   "cell_type": "code",
   "execution_count": 83,
   "id": "b6928db4",
   "metadata": {},
   "outputs": [
    {
     "name": "stdout",
     "output_type": "stream",
     "text": [
      "[0.93410042 0.94142259 0.92935636 0.93040293 0.93092622]\n",
      "93.32417035047041\n"
     ]
    }
   ],
   "source": [
    "num_trees= 100\n",
    "\n",
    "model=RandomForestClassifier(n_estimators=100, random_state=10,n_jobs = -1)\n",
    "print(cross_val_score(model,x_features,y_features,cv=kfold,scoring='accuracy'))\n",
    "results=cross_val_score(model,x_features,y_features,cv=kfold,scoring='accuracy')\n",
    "print(results.mean()*100)"
   ]
  },
  {
   "cell_type": "code",
   "execution_count": 84,
   "id": "28bd6412",
   "metadata": {},
   "outputs": [
    {
     "data": {
      "text/html": [
       "<div>\n",
       "<style scoped>\n",
       "    .dataframe tbody tr th:only-of-type {\n",
       "        vertical-align: middle;\n",
       "    }\n",
       "\n",
       "    .dataframe tbody tr th {\n",
       "        vertical-align: top;\n",
       "    }\n",
       "\n",
       "    .dataframe thead th {\n",
       "        text-align: right;\n",
       "    }\n",
       "</style>\n",
       "<table border=\"1\" class=\"dataframe\">\n",
       "  <thead>\n",
       "    <tr style=\"text-align: right;\">\n",
       "      <th></th>\n",
       "      <th>feature</th>\n",
       "      <th>importance</th>\n",
       "    </tr>\n",
       "  </thead>\n",
       "  <tbody>\n",
       "    <tr>\n",
       "      <th>0</th>\n",
       "      <td>v2a1</td>\n",
       "      <td>0.015878</td>\n",
       "    </tr>\n",
       "    <tr>\n",
       "      <th>2</th>\n",
       "      <td>rooms</td>\n",
       "      <td>0.020800</td>\n",
       "    </tr>\n",
       "    <tr>\n",
       "      <th>9</th>\n",
       "      <td>r4h2</td>\n",
       "      <td>0.017319</td>\n",
       "    </tr>\n",
       "    <tr>\n",
       "      <th>10</th>\n",
       "      <td>r4h3</td>\n",
       "      <td>0.016323</td>\n",
       "    </tr>\n",
       "    <tr>\n",
       "      <th>13</th>\n",
       "      <td>r4m3</td>\n",
       "      <td>0.015872</td>\n",
       "    </tr>\n",
       "  </tbody>\n",
       "</table>\n",
       "</div>"
      ],
      "text/plain": [
       "   feature  importance\n",
       "0     v2a1    0.015878\n",
       "2    rooms    0.020800\n",
       "9     r4h2    0.017319\n",
       "10    r4h3    0.016323\n",
       "13    r4m3    0.015872"
      ]
     },
     "execution_count": 84,
     "metadata": {},
     "output_type": "execute_result"
    }
   ],
   "source": [
    "model.fit(x_features,y_features)\n",
    "labels = list(x_features)\n",
    "feature_importances = pd.DataFrame({'feature': labels, 'importance': model.feature_importances_})\n",
    "feature_importances=feature_importances[feature_importances.importance>0.015]\n",
    "feature_importances.head()"
   ]
  },
  {
   "cell_type": "code",
   "execution_count": 85,
   "id": "6a4e31f1",
   "metadata": {},
   "outputs": [
    {
     "data": {
      "text/plain": [
       "Text(0.5, 0, 'Importance')"
      ]
     },
     "execution_count": 85,
     "metadata": {},
     "output_type": "execute_result"
    },
    {
     "data": {
      "image/png": "[encoded data removed]",
      "text/plain": [
       "<Figure size 792x432 with 1 Axes>"
      ]
     },
     "metadata": {
      "needs_background": "light"
     },
     "output_type": "display_data"
    }
   ],
   "source": [
    "feature_importances.sort_values(by=['importance'], ascending=True, inplace=True)\n",
    "feature_importances['positive'] = feature_importances['importance'] > 0\n",
    "feature_importances.set_index('feature',inplace=True)\n",
    "feature_importances.head()\n",
    "\n",
    "feature_importances.importance.plot(kind='barh', figsize=(11, 6),color = feature_importances.positive.map({True: 'blue', False: 'red'}))\n",
    "plt.xlabel('Importance')"
   ]
  },
  {
   "cell_type": "code",
   "execution_count": 86,
   "id": "e2d5a387",
   "metadata": {},
   "outputs": [
    {
     "data": {
      "text/html": [
       "<div>\n",
       "<style scoped>\n",
       "    .dataframe tbody tr th:only-of-type {\n",
       "        vertical-align: middle;\n",
       "    }\n",
       "\n",
       "    .dataframe tbody tr th {\n",
       "        vertical-align: top;\n",
       "    }\n",
       "\n",
       "    .dataframe thead th {\n",
       "        text-align: right;\n",
       "    }\n",
       "</style>\n",
       "<table border=\"1\" class=\"dataframe\">\n",
       "  <thead>\n",
       "    <tr style=\"text-align: right;\">\n",
       "      <th></th>\n",
       "      <th>importance</th>\n",
       "      <th>positive</th>\n",
       "    </tr>\n",
       "    <tr>\n",
       "      <th>feature</th>\n",
       "      <th></th>\n",
       "      <th></th>\n",
       "    </tr>\n",
       "  </thead>\n",
       "  <tbody>\n",
       "    <tr>\n",
       "      <th>r4t2</th>\n",
       "      <td>0.015845</td>\n",
       "      <td>True</td>\n",
       "    </tr>\n",
       "    <tr>\n",
       "      <th>r4m3</th>\n",
       "      <td>0.015872</td>\n",
       "      <td>True</td>\n",
       "    </tr>\n",
       "    <tr>\n",
       "      <th>v2a1</th>\n",
       "      <td>0.015878</td>\n",
       "      <td>True</td>\n",
       "    </tr>\n",
       "    <tr>\n",
       "      <th>r4h3</th>\n",
       "      <td>0.016323</td>\n",
       "      <td>True</td>\n",
       "    </tr>\n",
       "    <tr>\n",
       "      <th>r4t1</th>\n",
       "      <td>0.016652</td>\n",
       "      <td>True</td>\n",
       "    </tr>\n",
       "    <tr>\n",
       "      <th>cielorazo</th>\n",
       "      <td>0.016670</td>\n",
       "      <td>True</td>\n",
       "    </tr>\n",
       "    <tr>\n",
       "      <th>r4h2</th>\n",
       "      <td>0.017319</td>\n",
       "      <td>True</td>\n",
       "    </tr>\n",
       "    <tr>\n",
       "      <th>SQBhogar_nin</th>\n",
       "      <td>0.019292</td>\n",
       "      <td>True</td>\n",
       "    </tr>\n",
       "    <tr>\n",
       "      <th>hogar_nin</th>\n",
       "      <td>0.019557</td>\n",
       "      <td>True</td>\n",
       "    </tr>\n",
       "    <tr>\n",
       "      <th>rooms</th>\n",
       "      <td>0.020800</td>\n",
       "      <td>True</td>\n",
       "    </tr>\n",
       "    <tr>\n",
       "      <th>overcrowding</th>\n",
       "      <td>0.023703</td>\n",
       "      <td>True</td>\n",
       "    </tr>\n",
       "    <tr>\n",
       "      <th>SQBedjefe</th>\n",
       "      <td>0.024987</td>\n",
       "      <td>True</td>\n",
       "    </tr>\n",
       "    <tr>\n",
       "      <th>SQBovercrowding</th>\n",
       "      <td>0.025591</td>\n",
       "      <td>True</td>\n",
       "    </tr>\n",
       "    <tr>\n",
       "      <th>qmobilephone</th>\n",
       "      <td>0.025620</td>\n",
       "      <td>True</td>\n",
       "    </tr>\n",
       "    <tr>\n",
       "      <th>SQBdependency</th>\n",
       "      <td>0.027054</td>\n",
       "      <td>True</td>\n",
       "    </tr>\n",
       "    <tr>\n",
       "      <th>dependency</th>\n",
       "      <td>0.031348</td>\n",
       "      <td>True</td>\n",
       "    </tr>\n",
       "    <tr>\n",
       "      <th>meaneduc</th>\n",
       "      <td>0.051477</td>\n",
       "      <td>True</td>\n",
       "    </tr>\n",
       "    <tr>\n",
       "      <th>SQBmeaned</th>\n",
       "      <td>0.054520</td>\n",
       "      <td>True</td>\n",
       "    </tr>\n",
       "  </tbody>\n",
       "</table>\n",
       "</div>"
      ],
      "text/plain": [
       "                 importance  positive\n",
       "feature                              \n",
       "r4t2               0.015845      True\n",
       "r4m3               0.015872      True\n",
       "v2a1               0.015878      True\n",
       "r4h3               0.016323      True\n",
       "r4t1               0.016652      True\n",
       "cielorazo          0.016670      True\n",
       "r4h2               0.017319      True\n",
       "SQBhogar_nin       0.019292      True\n",
       "hogar_nin          0.019557      True\n",
       "rooms              0.020800      True\n",
       "overcrowding       0.023703      True\n",
       "SQBedjefe          0.024987      True\n",
       "SQBovercrowding    0.025591      True\n",
       "qmobilephone       0.025620      True\n",
       "SQBdependency      0.027054      True\n",
       "dependency         0.031348      True\n",
       "meaneduc           0.051477      True\n",
       "SQBmeaned          0.054520      True"
      ]
     },
     "execution_count": 86,
     "metadata": {},
     "output_type": "execute_result"
    }
   ],
   "source": [
    "feature_importances"
   ]
  },
  {
   "cell_type": "code",
   "execution_count": 87,
   "id": "3315d4be",
   "metadata": {},
   "outputs": [
    {
     "name": "stdout",
     "output_type": "stream",
     "text": [
      "importance\n",
      "positive\n"
     ]
    }
   ],
   "source": [
    "for i in feature_importances:\n",
    "    if i not in x_features:\n",
    "        print(i)"
   ]
  },
  {
   "cell_type": "code",
   "execution_count": 88,
   "id": "fbabe852",
   "metadata": {},
   "outputs": [],
   "source": [
    "X_data_Top_features= x_features[['r4t2','r4m3','v2a1','r4h3','r4t1','cielorazo','r4h2','r4t1','cielorazo','r4h2',\n",
    "                               'SQBhogar_nin','hogar_nin','rooms','overcrowding','SQBedjefe','SQBovercrowding',\n",
    "                                'qmobilephone','SQBdependency','dependency','meaneduc','SQBmeaned']]"
   ]
  },
  {
   "cell_type": "code",
   "execution_count": 89,
   "id": "b10e4550",
   "metadata": {},
   "outputs": [],
   "source": [
    "X_train,X_test,Y_train,Y_test=train_test_split(X_data_Top_features,\n",
    "                                               y_features,\n",
    "                                               test_size=0.2,\n",
    "                                               stratify=y_features,random_state=0)"
   ]
  },
  {
   "cell_type": "code",
   "execution_count": 90,
   "id": "c8c7909c",
   "metadata": {},
   "outputs": [
    {
     "data": {
      "text/plain": [
       "r4t2               0\n",
       "r4m3               0\n",
       "v2a1               0\n",
       "r4h3               0\n",
       "r4t1               0\n",
       "cielorazo          0\n",
       "r4h2               0\n",
       "r4t1               0\n",
       "cielorazo          0\n",
       "r4h2               0\n",
       "SQBhogar_nin       0\n",
       "hogar_nin          0\n",
       "rooms              0\n",
       "overcrowding       0\n",
       "SQBedjefe          0\n",
       "SQBovercrowding    0\n",
       "qmobilephone       0\n",
       "SQBdependency      0\n",
       "dependency         0\n",
       "meaneduc           0\n",
       "SQBmeaned          0\n",
       "dtype: int64"
      ]
     },
     "execution_count": 90,
     "metadata": {},
     "output_type": "execute_result"
    }
   ],
   "source": [
    "X_data_Top_features.isnull().sum()"
   ]
  },
  {
   "cell_type": "code",
   "execution_count": 91,
   "id": "1446470c",
   "metadata": {},
   "outputs": [],
   "source": [
    "model = RandomForestClassifier()\n",
    "model_final=model.fit(X_train,Y_train)\n",
    "Y_pred=model_final.predict(X_test)"
   ]
  },
  {
   "cell_type": "code",
   "execution_count": 92,
   "id": "41a792f4",
   "metadata": {},
   "outputs": [
    {
     "name": "stdout",
     "output_type": "stream",
     "text": [
      "0.9633891213389121\n",
      "[[ 144    0    0   11]\n",
      " [   6  292    3   11]\n",
      " [   1    3  228   12]\n",
      " [   2    7   14 1178]]\n",
      "              precision    recall  f1-score   support\n",
      "\n",
      "           1       0.94      0.93      0.94       155\n",
      "           2       0.97      0.94      0.95       312\n",
      "           3       0.93      0.93      0.93       244\n",
      "           4       0.97      0.98      0.98      1201\n",
      "\n",
      "    accuracy                           0.96      1912\n",
      "   macro avg       0.95      0.95      0.95      1912\n",
      "weighted avg       0.96      0.96      0.96      1912\n",
      "\n",
      "0.9633129858012178\n"
     ]
    }
   ],
   "source": [
    "print(accuracy_score(Y_test,Y_pred))\n",
    "print(confusion_matrix(Y_test,Y_pred))\n",
    "print(classification_report(Y_test,Y_pred))\n",
    "print(f1_score(Y_test,Y_pred,average='weighted'))"
   ]
  },
  {
   "cell_type": "markdown",
   "id": "e04b6eed",
   "metadata": {},
   "source": [
    "## Test Data Cleaning and Prediction"
   ]
  },
  {
   "cell_type": "code",
   "execution_count": 93,
   "id": "17331f7b",
   "metadata": {},
   "outputs": [],
   "source": [
    "# lets drop required variables.\n",
    "data_test.drop(['Id','idhogar','edjefe','edjefa'],axis=1,inplace=True)\n",
    "data_test['dependency']=data_test['dependency'].apply(map)"
   ]
  },
  {
   "cell_type": "code",
   "execution_count": 94,
   "id": "3bc25f62",
   "metadata": {},
   "outputs": [],
   "source": [
    "data_test['v2a1'].fillna(0,inplace=True)\n",
    "data_test['v18q1'].fillna(0,inplace=True)\n",
    "data_test['SQBmeaned'].fillna(0,inplace=True)\n",
    "data_test['meaneduc'].fillna(0,inplace=True)"
   ]
  },
  {
   "cell_type": "code",
   "execution_count": 95,
   "id": "2336194e",
   "metadata": {},
   "outputs": [
    {
     "data": {
      "text/plain": [
       "0    138\n",
       "dtype: int64"
      ]
     },
     "execution_count": 95,
     "metadata": {},
     "output_type": "execute_result"
    }
   ],
   "source": [
    "data_test.isna().sum().value_counts()"
   ]
  },
  {
   "cell_type": "code",
   "execution_count": 96,
   "id": "85a40c33",
   "metadata": {},
   "outputs": [],
   "source": [
    "data_test=data_test[['r4t2','r4m3','v2a1','r4h3','r4t1','cielorazo','r4h2','r4t1','cielorazo','r4h2',\n",
    "                               'SQBhogar_nin','hogar_nin','rooms','overcrowding','SQBedjefe','SQBovercrowding',\n",
    "                                'qmobilephone','SQBdependency','dependency','meaneduc','SQBmeaned']]"
   ]
  },
  {
   "cell_type": "code",
   "execution_count": 97,
   "id": "a23f7583",
   "metadata": {},
   "outputs": [],
   "source": [
    "test_prediction=model_final.predict(data_test)"
   ]
  },
  {
   "cell_type": "code",
   "execution_count": 98,
   "id": "4a9f7ca6",
   "metadata": {},
   "outputs": [
    {
     "data": {
      "text/plain": [
       "array([4, 4, 4, ..., 2, 2, 2])"
      ]
     },
     "execution_count": 98,
     "metadata": {},
     "output_type": "execute_result"
    }
   ],
   "source": [
    "test_prediction"
   ]
  },
  {
   "cell_type": "markdown",
   "id": "e73f885d",
   "metadata": {},
   "source": [
    "### *Using RandomForest Classifier we can predict test data with accuracy of 96%.*"
   ]
  },
  {
   "cell_type": "code",
   "execution_count": null,
   "id": "8d035b6f",
   "metadata": {},
   "outputs": [],
   "source": []
  }
 ],
 "metadata": {
  "kernelspec": {
   "display_name": "Python 3 (ipykernel)",
   "language": "python",
   "name": "python3"
  },
  "language_info": {
   "codemirror_mode": {
    "name": "ipython",
    "version": 3
   },
   "file_extension": ".py",
   "mimetype": "text/x-python",
   "name": "python",
   "nbconvert_exporter": "python",
   "pygments_lexer": "ipython3",
   "version": "3.9.12"
  }
 },
 "nbformat": 4,
 "nbformat_minor": 5
}
